{
 "cells": [
  {
   "cell_type": "code",
   "execution_count": 8,
   "id": "05c086f1",
   "metadata": {},
   "outputs": [
    {
     "name": "stdout",
     "output_type": "stream",
     "text": [
      "Predicted Sleep Time (hours):\n",
      "Decision Tree Model:     3.44\n",
      "Linear Model:            4.35\n",
      "Polynomial Model:        4.39\n",
      "Random Forest Model:     3.52\n"
     ]
    },
    {
     "name": "stderr",
     "output_type": "stream",
     "text": [
      "c:\\Users\\25194\\Desktop\\SleepModel\\.venv\\lib\\site-packages\\sklearn\\utils\\validation.py:2732: UserWarning: X has feature names, but DecisionTreeRegressor was fitted without feature names\n",
      "  warnings.warn(\n",
      "C:\\Users\\25194\\AppData\\Local\\Temp\\ipykernel_28960\\1929924816.py:29: DeprecationWarning: Conversion of an array with ndim > 0 to a scalar is deprecated, and will error in future. Ensure you extract a single element from your array before performing this operation. (Deprecated NumPy 1.25.)\n",
      "  L_pred = float(Linear_model.predict(scaled_input)[0])  # Convert to float\n",
      "C:\\Users\\25194\\AppData\\Local\\Temp\\ipykernel_28960\\1929924816.py:30: DeprecationWarning: Conversion of an array with ndim > 0 to a scalar is deprecated, and will error in future. Ensure you extract a single element from your array before performing this operation. (Deprecated NumPy 1.25.)\n",
      "  P_pred = float(Poly_model.predict(poly.transform(scaled_input))[0])  # Convert to float\n",
      "c:\\Users\\25194\\Desktop\\SleepModel\\.venv\\lib\\site-packages\\sklearn\\utils\\validation.py:2732: UserWarning: X has feature names, but RandomForestRegressor was fitted without feature names\n",
      "  warnings.warn(\n"
     ]
    }
   ],
   "source": [
    "import joblib\n",
    "import pandas as pd\n",
    "\n",
    "# === Load models and transformers ===\n",
    "DT_model = joblib.load(\"models/decision_tree_model.pkl\")\n",
    "Linear_model = joblib.load(\"models/linear_regression_model.pkl\")\n",
    "Poly_model = joblib.load(\"models/polynomial_regression_model.pkl\")\n",
    "Random_model = joblib.load(\"models/random_forest_model.pkl\")\n",
    "poly = joblib.load(\"models/poly_transformer.pkl\")\n",
    "scaler = joblib.load(\"models/standard_scaler.pkl\")\n",
    "\n",
    "# === Sample input ===\n",
    "sample_input = {\n",
    "    \"WorkoutTime\": [1.0],\n",
    "    \"ReadingTime\": [0.5],\n",
    "    \"PhoneTime\": [3.0],\n",
    "    \"WorkHours\": [8.0],\n",
    "    \"CaffeineIntake\": [2],\n",
    "    \"RelaxationTime\": [1.5]\n",
    "}\n",
    "\n",
    "input_df = pd.DataFrame(sample_input)\n",
    "\n",
    "# === Scale input ===\n",
    "scaled_input = scaler.transform(input_df)\n",
    "\n",
    "# === Run predictions ===\n",
    "DT_pred = DT_model.predict(input_df)[0]\n",
    "L_pred = float(Linear_model.predict(scaled_input)[0])  # Convert to float\n",
    "P_pred = float(Poly_model.predict(poly.transform(scaled_input))[0])  # Convert to float\n",
    "R_pred = Random_model.predict(input_df)[0]\n",
    "\n",
    "# === Display results ===\n",
    "print(\"Predicted Sleep Time (hours):\")\n",
    "print(f\"Decision Tree Model:     {DT_pred:.2f}\")\n",
    "print(f\"Linear Model:            {L_pred:.2f}\")\n",
    "print(f\"Polynomial Model:        {P_pred:.2f}\")\n",
    "print(f\"Random Forest Model:     {R_pred:.2f}\")\n",
    "\n"
   ]
  }
 ],
 "metadata": {
  "kernelspec": {
   "display_name": ".venv",
   "language": "python",
   "name": "python3"
  },
  "language_info": {
   "codemirror_mode": {
    "name": "ipython",
    "version": 3
   },
   "file_extension": ".py",
   "mimetype": "text/x-python",
   "name": "python",
   "nbconvert_exporter": "python",
   "pygments_lexer": "ipython3",
   "version": "3.10.11"
  }
 },
 "nbformat": 4,
 "nbformat_minor": 5
}
